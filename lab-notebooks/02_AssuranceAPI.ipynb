{
 "cells": [
  {
   "cell_type": "code",
   "execution_count": null,
   "metadata": {},
   "outputs": [],
   "source": [
    "import pytz\n",
    "import pandas as pd\n",
    "import numpy as np\n",
    "import matplotlib.pyplot as plt\n"
   ]
  },
  {
   "cell_type": "code",
   "execution_count": null,
   "metadata": {},
   "outputs": [],
   "source": [
    "pi=pd.read_csv('./adamlab-rf.csv',header=0)\n"
   ]
  },
  {
   "cell_type": "code",
   "execution_count": null,
   "metadata": {},
   "outputs": [],
   "source": [
    "pi.head()"
   ]
  },
  {
   "cell_type": "code",
   "execution_count": null,
   "metadata": {},
   "outputs": [],
   "source": [
    "pi.info"
   ]
  },
  {
   "cell_type": "code",
   "execution_count": null,
   "metadata": {},
   "outputs": [],
   "source": [
    "dd = pd.pivot_table(pi, index=[\"time\"], columns=['ap'], values=['noise'], aggfunc=[np.max], fill_value=None,margins=False)"
   ]
  },
  {
   "cell_type": "code",
   "execution_count": null,
   "metadata": {},
   "outputs": [],
   "source": [
    "df = pd.DataFrame(dd.to_records())\n",
    "df.index= pd.to_datetime(df[\"time\"])\n",
    "del df['time']\n",
    "new = df.resample('30min').max()"
   ]
  },
  {
   "cell_type": "code",
   "execution_count": null,
   "metadata": {},
   "outputs": [],
   "source": [
    "df.head()\n"
   ]
  },
  {
   "cell_type": "code",
   "execution_count": null,
   "metadata": {},
   "outputs": [],
   "source": [
    "new.plot()\n",
    "plt.show()"
   ]
  },
  {
   "cell_type": "code",
   "execution_count": null,
   "metadata": {},
   "outputs": [],
   "source": [
    "plt.matshow(new, interpolation=None, aspect='auto')"
   ]
  },
  {
   "cell_type": "code",
   "execution_count": null,
   "metadata": {},
   "outputs": [],
   "source": [
    "day=new['2019-06-05']"
   ]
  },
  {
   "cell_type": "code",
   "execution_count": null,
   "metadata": {},
   "outputs": [],
   "source": [
    "plt.matshow(day, interpolation=None, aspect='auto')"
   ]
  },
  {
   "cell_type": "code",
   "execution_count": null,
   "metadata": {},
   "outputs": [],
   "source": [
    "day.shape\n"
   ]
  },
  {
   "cell_type": "code",
   "execution_count": null,
   "metadata": {},
   "outputs": [],
   "source": [
    "day.head()"
   ]
  },
  {
   "cell_type": "code",
   "execution_count": null,
   "metadata": {},
   "outputs": [],
   "source": [
    "pi=pd.read_csv('./adamlab-rf.csv',header=0)"
   ]
  },
  {
   "cell_type": "code",
   "execution_count": null,
   "metadata": {},
   "outputs": [],
   "source": [
    "pi2=pi.loc[pi['noise']<  -1]\n",
    "#pi2=pi2.loc[pi2['noise'] >   -74]"
   ]
  },
  {
   "cell_type": "code",
   "execution_count": null,
   "metadata": {},
   "outputs": [],
   "source": [
    "dd2 = pd.pivot_table(pi2, index=[\"time\"], columns=['ap'], values=['noise'], aggfunc=[np.max], fill_value=None,margins=False)\n",
    "df2 = pd.DataFrame(dd2.to_records())\n",
    "df2.index= pd.to_datetime(df2[\"time\"])\n",
    "del df2['time']\n",
    "\n",
    "new2 = df2.resample('30min').max()\n",
    "\n",
    "day2=new2\n",
    "day2=new2['2019-06-05']"
   ]
  },
  {
   "cell_type": "code",
   "execution_count": null,
   "metadata": {},
   "outputs": [],
   "source": [
    "plt.matshow(day2, interpolation=None, aspect='auto')\n",
    "plt.colorbar()"
   ]
  },
  {
   "cell_type": "code",
   "execution_count": null,
   "metadata": {},
   "outputs": [],
   "source": [
    "def fix_labels(cols):\n",
    "    parts = [col.split(\"'\") for col in cols]\n",
    "    newcols = [  p[5] if len(p) <9 else '{}\\n{}'.format(p[5],p[7])  for p in parts]\n",
    "    return  newcols\n",
    "\n",
    "def plot(new):  \n",
    "    plt.matshow(new, interpolation=None, aspect='auto')\n",
    "    plt.colorbar()\n",
    "    \n",
    "    # get current axis and fix them\n",
    "    ax = plt.gca()\n",
    "    \n",
    "    # x axis across the top\n",
    "    labels = fix_labels(new.columns)\n",
    "    ax.set_xticks(np.arange(len(labels)))\n",
    "    ax.set_xticklabels(labels)\n",
    "    plt.setp([tick.label2 for tick in ax.xaxis.get_major_ticks()], rotation=90,ha=\"left\", va=\"center\", rotation_mode=\"anchor\")\n",
    "    \n",
    "    # now for the time, y axis down the side\n",
    "    all_time_labels = list(map(lambda x: '{}/{} {}:{:02d}'.format(x.month, x.day, x.hour, x.minute), new.index))\n",
    "    steps = int(len(new.index) / 48)\n",
    "    if steps == 0:\n",
    "        steps = 1\n",
    "    time_index = list(range(0, len(new.index), steps))\n",
    "    time_labels = [all_time_labels[i] for i in time_index]\n",
    "    ax.set_yticks(time_index)\n",
    "    ax.set_yticklabels(time_labels)\n",
    "    \n",
    "    "
   ]
  },
  {
   "cell_type": "code",
   "execution_count": null,
   "metadata": {},
   "outputs": [],
   "source": [
    "plot(day2)\n"
   ]
  },
  {
   "cell_type": "code",
   "execution_count": null,
   "metadata": {},
   "outputs": [],
   "source": []
  },
  {
   "cell_type": "code",
   "execution_count": null,
   "metadata": {},
   "outputs": [],
   "source": []
  }
 ],
 "metadata": {
  "kernelspec": {
   "display_name": "Python 3",
   "language": "python",
   "name": "python3"
  },
  "language_info": {
   "codemirror_mode": {
    "name": "ipython",
    "version": 3
   },
   "file_extension": ".py",
   "mimetype": "text/x-python",
   "name": "python",
   "nbconvert_exporter": "python",
   "pygments_lexer": "ipython3",
   "version": "3.7.2"
  }
 },
 "nbformat": 4,
 "nbformat_minor": 2
}
